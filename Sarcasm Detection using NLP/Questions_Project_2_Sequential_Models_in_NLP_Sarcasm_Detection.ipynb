{
  "nbformat": 4,
  "nbformat_minor": 0,
  "metadata": {
    "colab": {
      "name": "Questions_Project_2_Sequential_Models_in_NLP_Sarcasm_Detection.ipynb",
      "provenance": [],
      "collapsed_sections": [],
      "toc_visible": true
    },
    "kernelspec": {
      "display_name": "Python 3",
      "language": "python",
      "name": "python3"
    },
    "language_info": {
      "codemirror_mode": {
        "name": "ipython",
        "version": 3
      },
      "file_extension": ".py",
      "mimetype": "text/x-python",
      "name": "python",
      "nbconvert_exporter": "python",
      "pygments_lexer": "ipython3",
      "version": "3.7.3"
    }
  },
  "cells": [
    {
      "cell_type": "markdown",
      "metadata": {
        "id": "bI7SIeJ_oZMU"
      },
      "source": [
        "<img src=\"http://drive.google.com/uc?export=view&id=1tpOCamr9aWz817atPnyXus8w5gJ3mIts\" width=500px>\n",
        "\n",
        "Proprietary content. © Great Learning. All Rights Reserved. Unauthorized use or distribution prohibited."
      ]
    },
    {
      "cell_type": "code",
      "metadata": {
        "id": "nGBME74WMIU2"
      },
      "source": [
        "import matplotlib.pyplot as plt"
      ],
      "execution_count": 1,
      "outputs": []
    },
    {
      "cell_type": "markdown",
      "metadata": {
        "id": "Eukag7wEoPZu"
      },
      "source": [
        "### Package Version:\n",
        "- tensorflow==2.2.0\n",
        "- pandas==1.0.5\n",
        "- numpy==1.18.5\n",
        "- google==2.0.3"
      ]
    },
    {
      "cell_type": "markdown",
      "metadata": {
        "id": "pp68FAQf9aMN"
      },
      "source": [
        "# Sarcasm Detection"
      ]
    },
    {
      "cell_type": "markdown",
      "metadata": {
        "id": "bEahVPtWX5ve"
      },
      "source": [
        "### Dataset\n",
        "\n",
        "#### Acknowledgement\n",
        "Misra, Rishabh, and Prahal Arora. \"Sarcasm Detection using Hybrid Neural Network.\" arXiv preprint arXiv:1908.07414 (2019).\n",
        "\n",
        "**Required Files given in below link.**\n",
        "\n",
        "https://drive.google.com/drive/folders/1xUnF35naPGU63xwRDVGc-DkZ3M8V5mMk"
      ]
    },
    {
      "cell_type": "markdown",
      "metadata": {
        "id": "vAk6BRUh8CqL"
      },
      "source": [
        "### Load Data (5 Marks)"
      ]
    },
    {
      "cell_type": "code",
      "metadata": {
        "id": "v8-PQsV0DrAZ",
        "colab": {
          "base_uri": "https://localhost:8080/"
        },
        "outputId": "fcdaca11-c7d5-4d27-da9f-bf76285cc650"
      },
      "source": [
        "from google.colab import drive\n",
        "drive.mount('/content/drive')"
      ],
      "execution_count": 2,
      "outputs": [
        {
          "output_type": "stream",
          "text": [
            "Drive already mounted at /content/drive; to attempt to forcibly remount, call drive.mount(\"/content/drive\", force_remount=True).\n"
          ],
          "name": "stdout"
        }
      ]
    },
    {
      "cell_type": "code",
      "metadata": {
        "id": "ZZTK8BcODtVd"
      },
      "source": [
        "import pandas as pd"
      ],
      "execution_count": 3,
      "outputs": []
    },
    {
      "cell_type": "code",
      "metadata": {
        "id": "8FK2PKQ9FNVR",
        "colab": {
          "base_uri": "https://localhost:8080/",
          "height": 195
        },
        "outputId": "05002dda-976a-4709-8611-9aa54aec9b70"
      },
      "source": [
        "df = pd.read_json('/content/drive/My Drive/Sarcasm Detection NLP/Sarcasm_Headlines_Dataset.json', lines = True)\n",
        "df.head()"
      ],
      "execution_count": 4,
      "outputs": [
        {
          "output_type": "execute_result",
          "data": {
            "text/html": [
              "<div>\n",
              "<style scoped>\n",
              "    .dataframe tbody tr th:only-of-type {\n",
              "        vertical-align: middle;\n",
              "    }\n",
              "\n",
              "    .dataframe tbody tr th {\n",
              "        vertical-align: top;\n",
              "    }\n",
              "\n",
              "    .dataframe thead th {\n",
              "        text-align: right;\n",
              "    }\n",
              "</style>\n",
              "<table border=\"1\" class=\"dataframe\">\n",
              "  <thead>\n",
              "    <tr style=\"text-align: right;\">\n",
              "      <th></th>\n",
              "      <th>article_link</th>\n",
              "      <th>headline</th>\n",
              "      <th>is_sarcastic</th>\n",
              "    </tr>\n",
              "  </thead>\n",
              "  <tbody>\n",
              "    <tr>\n",
              "      <th>0</th>\n",
              "      <td>https://www.huffingtonpost.com/entry/versace-b...</td>\n",
              "      <td>former versace store clerk sues over secret 'b...</td>\n",
              "      <td>0</td>\n",
              "    </tr>\n",
              "    <tr>\n",
              "      <th>1</th>\n",
              "      <td>https://www.huffingtonpost.com/entry/roseanne-...</td>\n",
              "      <td>the 'roseanne' revival catches up to our thorn...</td>\n",
              "      <td>0</td>\n",
              "    </tr>\n",
              "    <tr>\n",
              "      <th>2</th>\n",
              "      <td>https://local.theonion.com/mom-starting-to-fea...</td>\n",
              "      <td>mom starting to fear son's web series closest ...</td>\n",
              "      <td>1</td>\n",
              "    </tr>\n",
              "    <tr>\n",
              "      <th>3</th>\n",
              "      <td>https://politics.theonion.com/boehner-just-wan...</td>\n",
              "      <td>boehner just wants wife to listen, not come up...</td>\n",
              "      <td>1</td>\n",
              "    </tr>\n",
              "    <tr>\n",
              "      <th>4</th>\n",
              "      <td>https://www.huffingtonpost.com/entry/jk-rowlin...</td>\n",
              "      <td>j.k. rowling wishes snape happy birthday in th...</td>\n",
              "      <td>0</td>\n",
              "    </tr>\n",
              "  </tbody>\n",
              "</table>\n",
              "</div>"
            ],
            "text/plain": [
              "                                        article_link  ... is_sarcastic\n",
              "0  https://www.huffingtonpost.com/entry/versace-b...  ...            0\n",
              "1  https://www.huffingtonpost.com/entry/roseanne-...  ...            0\n",
              "2  https://local.theonion.com/mom-starting-to-fea...  ...            1\n",
              "3  https://politics.theonion.com/boehner-just-wan...  ...            1\n",
              "4  https://www.huffingtonpost.com/entry/jk-rowlin...  ...            0\n",
              "\n",
              "[5 rows x 3 columns]"
            ]
          },
          "metadata": {
            "tags": []
          },
          "execution_count": 4
        }
      ]
    },
    {
      "cell_type": "markdown",
      "metadata": {
        "id": "z6pXf7A78E2H"
      },
      "source": [
        "### Drop `article_link` from dataset (5 Marks)"
      ]
    },
    {
      "cell_type": "code",
      "metadata": {
        "id": "-WUNHq5zEV0n"
      },
      "source": [
        "df.drop('article_link', axis = 1, inplace = True)"
      ],
      "execution_count": 5,
      "outputs": []
    },
    {
      "cell_type": "code",
      "metadata": {
        "colab": {
          "base_uri": "https://localhost:8080/",
          "height": 195
        },
        "id": "fHRdBSObG5gi",
        "outputId": "3efe7c8d-e9df-4cb1-ca71-3ddec8a0e572"
      },
      "source": [
        "df.head()"
      ],
      "execution_count": 6,
      "outputs": [
        {
          "output_type": "execute_result",
          "data": {
            "text/html": [
              "<div>\n",
              "<style scoped>\n",
              "    .dataframe tbody tr th:only-of-type {\n",
              "        vertical-align: middle;\n",
              "    }\n",
              "\n",
              "    .dataframe tbody tr th {\n",
              "        vertical-align: top;\n",
              "    }\n",
              "\n",
              "    .dataframe thead th {\n",
              "        text-align: right;\n",
              "    }\n",
              "</style>\n",
              "<table border=\"1\" class=\"dataframe\">\n",
              "  <thead>\n",
              "    <tr style=\"text-align: right;\">\n",
              "      <th></th>\n",
              "      <th>headline</th>\n",
              "      <th>is_sarcastic</th>\n",
              "    </tr>\n",
              "  </thead>\n",
              "  <tbody>\n",
              "    <tr>\n",
              "      <th>0</th>\n",
              "      <td>former versace store clerk sues over secret 'b...</td>\n",
              "      <td>0</td>\n",
              "    </tr>\n",
              "    <tr>\n",
              "      <th>1</th>\n",
              "      <td>the 'roseanne' revival catches up to our thorn...</td>\n",
              "      <td>0</td>\n",
              "    </tr>\n",
              "    <tr>\n",
              "      <th>2</th>\n",
              "      <td>mom starting to fear son's web series closest ...</td>\n",
              "      <td>1</td>\n",
              "    </tr>\n",
              "    <tr>\n",
              "      <th>3</th>\n",
              "      <td>boehner just wants wife to listen, not come up...</td>\n",
              "      <td>1</td>\n",
              "    </tr>\n",
              "    <tr>\n",
              "      <th>4</th>\n",
              "      <td>j.k. rowling wishes snape happy birthday in th...</td>\n",
              "      <td>0</td>\n",
              "    </tr>\n",
              "  </tbody>\n",
              "</table>\n",
              "</div>"
            ],
            "text/plain": [
              "                                            headline  is_sarcastic\n",
              "0  former versace store clerk sues over secret 'b...             0\n",
              "1  the 'roseanne' revival catches up to our thorn...             0\n",
              "2  mom starting to fear son's web series closest ...             1\n",
              "3  boehner just wants wife to listen, not come up...             1\n",
              "4  j.k. rowling wishes snape happy birthday in th...             0"
            ]
          },
          "metadata": {
            "tags": []
          },
          "execution_count": 6
        }
      ]
    },
    {
      "cell_type": "code",
      "metadata": {
        "colab": {
          "base_uri": "https://localhost:8080/"
        },
        "id": "qHcntg1DwfAP",
        "outputId": "cda95244-7be8-460e-ecad-730879accf99"
      },
      "source": [
        "df['is_sarcastic'].value_counts()"
      ],
      "execution_count": 7,
      "outputs": [
        {
          "output_type": "execute_result",
          "data": {
            "text/plain": [
              "0    14985\n",
              "1    11724\n",
              "Name: is_sarcastic, dtype: int64"
            ]
          },
          "metadata": {
            "tags": []
          },
          "execution_count": 7
        }
      ]
    },
    {
      "cell_type": "markdown",
      "metadata": {
        "id": "3_OgwljDMkWm"
      },
      "source": [
        "**Detecting if text is multilingual:**\r\n",
        "We'll import the lang_detect function . Our target is to find the no of distribution of diffrent languages in headline column"
      ]
    },
    {
      "cell_type": "code",
      "metadata": {
        "colab": {
          "base_uri": "https://localhost:8080/"
        },
        "id": "K-0lqQoqIfiN",
        "outputId": "87e2e44c-a381-4680-f513-c96e18d65a3a"
      },
      "source": [
        "# importing required libraries\r\n",
        "import warnings\r\n",
        "warnings.filterwarnings('ignore')\r\n",
        "import subprocess\r\n",
        "import sys\r\n",
        "print(\"installing langdetect python package...\")\r\n",
        "subprocess.check_call([sys.executable, \"-m\", \"pip\", \"install\", \"langdetect\"])\r\n",
        "print(\"Done!\")\r\n",
        "from langdetect import detect\r\n",
        "\r\n",
        "def lang_detect(text):\r\n",
        "    \"\"\"\r\n",
        "    Detects language of the text. \r\n",
        "    If a language is detected, returns the ISO 639-1 language code, else \"unknown\"\r\n",
        "    \r\n",
        "    text: text to detect language (string)\r\n",
        "    \"\"\"\r\n",
        "    try:                                                          \r\n",
        "      return detect(text)                                      \r\n",
        "    except:                                                       \r\n",
        "      return 'unknown' "
      ],
      "execution_count": 8,
      "outputs": [
        {
          "output_type": "stream",
          "text": [
            "installing langdetect python package...\n",
            "Done!\n"
          ],
          "name": "stdout"
        }
      ]
    },
    {
      "cell_type": "code",
      "metadata": {
        "colab": {
          "base_uri": "https://localhost:8080/"
        },
        "id": "O_7kyC5fI1kk",
        "outputId": "7352153e-c6e3-45bf-fc1a-c41bb3a858ba"
      },
      "source": [
        "print(lang_detect.__doc__)"
      ],
      "execution_count": 9,
      "outputs": [
        {
          "output_type": "stream",
          "text": [
            "\n",
            "    Detects language of the text. \n",
            "    If a language is detected, returns the ISO 639-1 language code, else \"unknown\"\n",
            "    \n",
            "    text: text to detect language (string)\n",
            "    \n"
          ],
          "name": "stdout"
        }
      ]
    },
    {
      "cell_type": "code",
      "metadata": {
        "id": "hQf7B7JfJilM"
      },
      "source": [
        "def plot_count_plot(values, labels, xlabel=\"\", ylabel=\"\", title=''):\r\n",
        "    \"\"\"\r\n",
        "    Plots a count plot. Width and height fixed at 20px and 7px respectively.\r\n",
        "    \r\n",
        "    values: pass count(integers) as an array/list/series\r\n",
        "    labels: pass labels(string) corresponding to the count as an array/list\r\n",
        "    xlabel: label for x-axis (string)\r\n",
        "    ylabel: label for y-axis (string)\r\n",
        "    title: title of the plot (string)\r\n",
        "    \"\"\"\r\n",
        "    plt.figure(figsize=(20,10))\r\n",
        "    plt.xticks(rotation=90)\r\n",
        "    plt.xlabel(xlabel)\r\n",
        "    plt.ylabel(ylabel)\r\n",
        "    plt.title(title)\r\n",
        "    plt.bar(x=labels,height=values)\r\n",
        "    plt.show()"
      ],
      "execution_count": 10,
      "outputs": []
    },
    {
      "cell_type": "code",
      "metadata": {
        "id": "DWZQriXOKZEb"
      },
      "source": [
        "df['Language'] = df[\"headline\"].apply(lang_detect)"
      ],
      "execution_count": 11,
      "outputs": []
    },
    {
      "cell_type": "code",
      "metadata": {
        "id": "4b3glx-nJkOW",
        "colab": {
          "base_uri": "https://localhost:8080/",
          "height": 662
        },
        "outputId": "7e25fd7f-2b53-4785-fbca-8aefa59af73b"
      },
      "source": [
        "xlabel = \"Language\"\r\n",
        "ylabel = \"No. of Headlines\"\r\n",
        "values = df[\"Language\"].value_counts(5).to_dict().values()\r\n",
        "labels = df[\"Language\"].value_counts(5).to_dict().keys()\r\n",
        "print(\"Count of descriptions per language\\n\")\r\n",
        "plot_count_plot(values,labels,xlabel,ylabel)"
      ],
      "execution_count": 12,
      "outputs": [
        {
          "output_type": "stream",
          "text": [
            "Count of descriptions per language\n",
            "\n"
          ],
          "name": "stdout"
        },
        {
          "output_type": "display_data",
          "data": {
            "image/png": "[encoded data removed]",
            "text/plain": [
              "<Figure size 1440x720 with 1 Axes>"
            ]
          },
          "metadata": {
            "tags": [],
            "needs_background": "light"
          }
        }
      ]
    },
    {
      "cell_type": "code",
      "metadata": {
        "colab": {
          "base_uri": "https://localhost:8080/"
        },
        "id": "HMJW899mQO2W",
        "outputId": "8bafb08a-f4f3-4cff-bf07-bf3218c1b92a"
      },
      "source": [
        "df[\"Language\"].value_counts().head(5)"
      ],
      "execution_count": 19,
      "outputs": [
        {
          "output_type": "execute_result",
          "data": {
            "text/plain": [
              "en    25424\n",
              "fr      175\n",
              "af      147\n",
              "da      137\n",
              "it      130\n",
              "Name: Language, dtype: int64"
            ]
          },
          "metadata": {
            "tags": []
          },
          "execution_count": 19
        }
      ]
    },
    {
      "cell_type": "markdown",
      "metadata": {
        "id": "7NwALQY8TnF3"
      },
      "source": [
        "So English is the most frequentlanguage in headline column followed by french and african "
      ]
    },
    {
      "cell_type": "markdown",
      "metadata": {
        "id": "D0h6IOxU8OdH"
      },
      "source": [
        "### Get length of each headline and add a column for that (5 Marks)"
      ]
    },
    {
      "cell_type": "code",
      "metadata": {
        "colab": {
          "base_uri": "https://localhost:8080/",
          "height": 195
        },
        "id": "MLpiBRDmEV2l",
        "outputId": "7c0ef712-3de6-49b1-d2ae-8935bcf8262b"
      },
      "source": [
        "df= df.assign(lengthofHeadline = df['headline'].str.len())\n",
        "df.head()\n"
      ],
      "execution_count": null,
      "outputs": [
        {
          "output_type": "execute_result",
          "data": {
            "text/html": [
              "<div>\n",
              "<style scoped>\n",
              "    .dataframe tbody tr th:only-of-type {\n",
              "        vertical-align: middle;\n",
              "    }\n",
              "\n",
              "    .dataframe tbody tr th {\n",
              "        vertical-align: top;\n",
              "    }\n",
              "\n",
              "    .dataframe thead th {\n",
              "        text-align: right;\n",
              "    }\n",
              "</style>\n",
              "<table border=\"1\" class=\"dataframe\">\n",
              "  <thead>\n",
              "    <tr style=\"text-align: right;\">\n",
              "      <th></th>\n",
              "      <th>headline</th>\n",
              "      <th>is_sarcastic</th>\n",
              "      <th>lengthofHeadline</th>\n",
              "    </tr>\n",
              "  </thead>\n",
              "  <tbody>\n",
              "    <tr>\n",
              "      <th>0</th>\n",
              "      <td>former versace store clerk sues over secret 'b...</td>\n",
              "      <td>0</td>\n",
              "      <td>78</td>\n",
              "    </tr>\n",
              "    <tr>\n",
              "      <th>1</th>\n",
              "      <td>the 'roseanne' revival catches up to our thorn...</td>\n",
              "      <td>0</td>\n",
              "      <td>84</td>\n",
              "    </tr>\n",
              "    <tr>\n",
              "      <th>2</th>\n",
              "      <td>mom starting to fear son's web series closest ...</td>\n",
              "      <td>1</td>\n",
              "      <td>79</td>\n",
              "    </tr>\n",
              "    <tr>\n",
              "      <th>3</th>\n",
              "      <td>boehner just wants wife to listen, not come up...</td>\n",
              "      <td>1</td>\n",
              "      <td>84</td>\n",
              "    </tr>\n",
              "    <tr>\n",
              "      <th>4</th>\n",
              "      <td>j.k. rowling wishes snape happy birthday in th...</td>\n",
              "      <td>0</td>\n",
              "      <td>64</td>\n",
              "    </tr>\n",
              "  </tbody>\n",
              "</table>\n",
              "</div>"
            ],
            "text/plain": [
              "                                            headline  ...  lengthofHeadline\n",
              "0  former versace store clerk sues over secret 'b...  ...                78\n",
              "1  the 'roseanne' revival catches up to our thorn...  ...                84\n",
              "2  mom starting to fear son's web series closest ...  ...                79\n",
              "3  boehner just wants wife to listen, not come up...  ...                84\n",
              "4  j.k. rowling wishes snape happy birthday in th...  ...                64\n",
              "\n",
              "[5 rows x 3 columns]"
            ]
          },
          "metadata": {
            "tags": []
          },
          "execution_count": 11
        }
      ]
    },
    {
      "cell_type": "code",
      "metadata": {
        "colab": {
          "base_uri": "https://localhost:8080/"
        },
        "id": "4oZq3LLWMAtB",
        "outputId": "f85c0422-74cd-4a2b-f54e-b506246b0e31"
      },
      "source": [
        "s = df.loc[0, 'headline']\n",
        "len(s)"
      ],
      "execution_count": null,
      "outputs": [
        {
          "output_type": "execute_result",
          "data": {
            "text/plain": [
              "78"
            ]
          },
          "metadata": {
            "tags": []
          },
          "execution_count": 12
        }
      ]
    },
    {
      "cell_type": "markdown",
      "metadata": {
        "id": "SMF-wjJ2aMwm"
      },
      "source": [
        "### Initialize parameter values\n",
        "- Set values for max_features, maxlen, & embedding_size\n",
        "- max_features: Number of words to take from tokenizer(most frequent words)\n",
        "- maxlen: Maximum length of each sentence to be limited to 25\n",
        "- embedding_size: size of embedding vector"
      ]
    },
    {
      "cell_type": "code",
      "metadata": {
        "id": "jPw9gAN_EV6m"
      },
      "source": [
        "max_features = 10000\n",
        "maxlen = 25\n",
        "embedding_size = 200"
      ],
      "execution_count": null,
      "outputs": []
    },
    {
      "cell_type": "markdown",
      "metadata": {
        "id": "9abSe-bM8fn9"
      },
      "source": [
        "### Apply `tensorflow.keras` Tokenizer and get indices for words (5 Marks)\n",
        "- Initialize Tokenizer object with number of words as 10000\n",
        "- Fit the tokenizer object on headline column\n",
        "- Convert the text to sequence\n"
      ]
    },
    {
      "cell_type": "code",
      "metadata": {
        "id": "1oICC1r9SORv"
      },
      "source": [
        "import re\n",
        "from tensorflow.keras.preprocessing.text import Tokenizer\n",
        "from tensorflow.keras.preprocessing.sequence import pad_sequences\n",
        "import nltk"
      ],
      "execution_count": 85,
      "outputs": []
    },
    {
      "cell_type": "code",
      "metadata": {
        "colab": {
          "base_uri": "https://localhost:8080/"
        },
        "id": "FOk4GtuvbJMi",
        "outputId": "0309130a-5433-451f-8036-44b4ec1c667c"
      },
      "source": [
        "nltk.download('stopwords')\r\n",
        "from nltk.corpus import stopwords # Import stop words\r\n",
        "stop = stopwords.words('english')\r\n",
        "lemmatizer = WordNetLemmatizer()\r\n",
        "from string import punctuation\r\n",
        "nltk.download('wordnet')\r\n",
        "from nltk import word_tokenize\r\n",
        "from nltk.tokenize import RegexpTokenizer\r\n",
        "from nltk.stem import WordNetLemmatizer"
      ],
      "execution_count": 86,
      "outputs": [
        {
          "output_type": "stream",
          "text": [
            "[nltk_data] Downloading package stopwords to /root/nltk_data...\n",
            "[nltk_data]   Package stopwords is already up-to-date!\n",
            "[nltk_data] Downloading package wordnet to /root/nltk_data...\n",
            "[nltk_data]   Package wordnet is already up-to-date!\n"
          ],
          "name": "stdout"
        }
      ]
    },
    {
      "cell_type": "markdown",
      "metadata": {
        "id": "b3q30STqXS0j"
      },
      "source": [
        "We do some preprocessing for the headline column "
      ]
    },
    {
      "cell_type": "markdown",
      "metadata": {
        "id": "yiONYcdGS791"
      },
      "source": [
        "I have used nltk.stopwords and other preprocessing in this notebook just for practice in real time datasets. If we use tokenizer then these preprocessing are done by default ."
      ]
    },
    {
      "cell_type": "code",
      "metadata": {
        "id": "Ol9dahywcRyK"
      },
      "source": [
        "punctuations = list(punctuation)"
      ],
      "execution_count": 73,
      "outputs": []
    },
    {
      "cell_type": "code",
      "metadata": {
        "id": "nnoqRcOGUb-K"
      },
      "source": [
        "def preprocess_func(text):\r\n",
        "  word = text.split()\r\n",
        "  word = [w.lower() for w in word if w not in punctuations]\r\n",
        "  word = \" \".join(word)\r\n",
        "  word = re.sub(r\"[^A-Za-z0-9]\", \" \", word)\r\n",
        "  word = re.sub(r\"\\s{2,}\", \" \", word)\r\n",
        "  \"\"\"word = [lemmatizer.lemmatize(word) for word in word if word not in set(stopwords.words('english'))]\r\n",
        "  word = [word.lower() for word in word if word not in stop]\"\"\"\r\n",
        "  tokens = RegexpTokenizer('[A-Za-z0-9]+').tokenize(word) #converting to tokens\r\n",
        "  tokens = pos_based_lematizer(tokens) #lematizing - custom lemmatizer function defined above\r\n",
        "  tokens = [t for t in tokens if t not in stopwords] #removing stopwords\r\n",
        "  cleaned_text = ' '.join(tokens)\r\n",
        "  return cleaned_text\r\n",
        "  \r\n"
      ],
      "execution_count": 96,
      "outputs": []
    },
    {
      "cell_type": "code",
      "metadata": {
        "colab": {
          "base_uri": "https://localhost:8080/",
          "height": 229
        },
        "id": "1KPc4jAunabK",
        "outputId": "19e74930-7f69-4b0d-8726-ec938b30c008"
      },
      "source": [
        "tokens = RegexpTokenizer('[A-Za-z0-9]+').tokenize(word) #converting to tokens\r\n",
        "tokens = pos_based_lematizer(tokens) #lematizing - custom lemmatizer function defined above\r\n",
        "tokens = [t for t in tokens if t not in stopwords] #removing stopwords\r\n",
        "cleaned_text = ' '.join(tokens)\r\n",
        "return cleaned_text"
      ],
      "execution_count": 97,
      "outputs": [
        {
          "output_type": "error",
          "ename": "NameError",
          "evalue": "ignored",
          "traceback": [
            "\u001b[0;31m---------------------------------------------------------------------------\u001b[0m",
            "\u001b[0;31mNameError\u001b[0m                                 Traceback (most recent call last)",
            "\u001b[0;32m<ipython-input-97-5230596901db>\u001b[0m in \u001b[0;36m<module>\u001b[0;34m()\u001b[0m\n\u001b[0;32m----> 1\u001b[0;31m \u001b[0mtokens\u001b[0m \u001b[0;34m=\u001b[0m \u001b[0mRegexpTokenizer\u001b[0m\u001b[0;34m(\u001b[0m\u001b[0;34m'[A-Za-z0-9]+'\u001b[0m\u001b[0;34m)\u001b[0m\u001b[0;34m.\u001b[0m\u001b[0mtokenize\u001b[0m\u001b[0;34m(\u001b[0m\u001b[0mword\u001b[0m\u001b[0;34m)\u001b[0m \u001b[0;31m#converting to tokens\u001b[0m\u001b[0;34m\u001b[0m\u001b[0;34m\u001b[0m\u001b[0m\n\u001b[0m\u001b[1;32m      2\u001b[0m \u001b[0mtokens\u001b[0m \u001b[0;34m=\u001b[0m \u001b[0mpos_based_lematizer\u001b[0m\u001b[0;34m(\u001b[0m\u001b[0mtokens\u001b[0m\u001b[0;34m)\u001b[0m \u001b[0;31m#lematizing - custom lemmatizer function defined above\u001b[0m\u001b[0;34m\u001b[0m\u001b[0;34m\u001b[0m\u001b[0m\n\u001b[1;32m      3\u001b[0m \u001b[0mtokens\u001b[0m \u001b[0;34m=\u001b[0m \u001b[0;34m[\u001b[0m\u001b[0mt\u001b[0m \u001b[0;32mfor\u001b[0m \u001b[0mt\u001b[0m \u001b[0;32min\u001b[0m \u001b[0mtokens\u001b[0m \u001b[0;32mif\u001b[0m \u001b[0mt\u001b[0m \u001b[0;32mnot\u001b[0m \u001b[0;32min\u001b[0m \u001b[0mstopwords\u001b[0m\u001b[0;34m]\u001b[0m \u001b[0;31m#removing stopwords\u001b[0m\u001b[0;34m\u001b[0m\u001b[0;34m\u001b[0m\u001b[0m\n\u001b[1;32m      4\u001b[0m \u001b[0mcleaned_text\u001b[0m \u001b[0;34m=\u001b[0m \u001b[0;34m' '\u001b[0m\u001b[0;34m.\u001b[0m\u001b[0mjoin\u001b[0m\u001b[0;34m(\u001b[0m\u001b[0mtokens\u001b[0m\u001b[0;34m)\u001b[0m\u001b[0;34m\u001b[0m\u001b[0;34m\u001b[0m\u001b[0m\n\u001b[1;32m      5\u001b[0m \u001b[0;32mreturn\u001b[0m \u001b[0mcleaned_text\u001b[0m\u001b[0;34m\u001b[0m\u001b[0;34m\u001b[0m\u001b[0m\n",
            "\u001b[0;31mNameError\u001b[0m: name 'word' is not defined"
          ]
        }
      ]
    },
    {
      "cell_type": "code",
      "metadata": {
        "id": "y8g4l0KfF3eh",
        "colab": {
          "base_uri": "https://localhost:8080/",
          "height": 337
        },
        "outputId": "7fe8ca08-4a35-425d-c288-464e7266f92e"
      },
      "source": [
        "df['headline'] = df['headline'].apply(preprocess_func)\n"
      ],
      "execution_count": 98,
      "outputs": [
        {
          "output_type": "error",
          "ename": "UnboundLocalError",
          "evalue": "ignored",
          "traceback": [
            "\u001b[0;31m---------------------------------------------------------------------------\u001b[0m",
            "\u001b[0;31mUnboundLocalError\u001b[0m                         Traceback (most recent call last)",
            "\u001b[0;32m<ipython-input-98-c97067407e46>\u001b[0m in \u001b[0;36m<module>\u001b[0;34m()\u001b[0m\n\u001b[0;32m----> 1\u001b[0;31m \u001b[0mdf\u001b[0m\u001b[0;34m[\u001b[0m\u001b[0;34m'headline'\u001b[0m\u001b[0;34m]\u001b[0m \u001b[0;34m=\u001b[0m \u001b[0mdf\u001b[0m\u001b[0;34m[\u001b[0m\u001b[0;34m'headline'\u001b[0m\u001b[0;34m]\u001b[0m\u001b[0;34m.\u001b[0m\u001b[0mapply\u001b[0m\u001b[0;34m(\u001b[0m\u001b[0mpreprocess_func\u001b[0m\u001b[0;34m)\u001b[0m\u001b[0;34m\u001b[0m\u001b[0;34m\u001b[0m\u001b[0m\n\u001b[0m",
            "\u001b[0;32m/usr/local/lib/python3.7/dist-packages/pandas/core/series.py\u001b[0m in \u001b[0;36mapply\u001b[0;34m(self, func, convert_dtype, args, **kwds)\u001b[0m\n\u001b[1;32m   4211\u001b[0m             \u001b[0;32melse\u001b[0m\u001b[0;34m:\u001b[0m\u001b[0;34m\u001b[0m\u001b[0;34m\u001b[0m\u001b[0m\n\u001b[1;32m   4212\u001b[0m                 \u001b[0mvalues\u001b[0m \u001b[0;34m=\u001b[0m \u001b[0mself\u001b[0m\u001b[0;34m.\u001b[0m\u001b[0mastype\u001b[0m\u001b[0;34m(\u001b[0m\u001b[0mobject\u001b[0m\u001b[0;34m)\u001b[0m\u001b[0;34m.\u001b[0m\u001b[0m_values\u001b[0m\u001b[0;34m\u001b[0m\u001b[0;34m\u001b[0m\u001b[0m\n\u001b[0;32m-> 4213\u001b[0;31m                 \u001b[0mmapped\u001b[0m \u001b[0;34m=\u001b[0m \u001b[0mlib\u001b[0m\u001b[0;34m.\u001b[0m\u001b[0mmap_infer\u001b[0m\u001b[0;34m(\u001b[0m\u001b[0mvalues\u001b[0m\u001b[0;34m,\u001b[0m \u001b[0mf\u001b[0m\u001b[0;34m,\u001b[0m \u001b[0mconvert\u001b[0m\u001b[0;34m=\u001b[0m\u001b[0mconvert_dtype\u001b[0m\u001b[0;34m)\u001b[0m\u001b[0;34m\u001b[0m\u001b[0;34m\u001b[0m\u001b[0m\n\u001b[0m\u001b[1;32m   4214\u001b[0m \u001b[0;34m\u001b[0m\u001b[0m\n\u001b[1;32m   4215\u001b[0m         \u001b[0;32mif\u001b[0m \u001b[0mlen\u001b[0m\u001b[0;34m(\u001b[0m\u001b[0mmapped\u001b[0m\u001b[0;34m)\u001b[0m \u001b[0;32mand\u001b[0m \u001b[0misinstance\u001b[0m\u001b[0;34m(\u001b[0m\u001b[0mmapped\u001b[0m\u001b[0;34m[\u001b[0m\u001b[0;36m0\u001b[0m\u001b[0;34m]\u001b[0m\u001b[0;34m,\u001b[0m \u001b[0mSeries\u001b[0m\u001b[0;34m)\u001b[0m\u001b[0;34m:\u001b[0m\u001b[0;34m\u001b[0m\u001b[0;34m\u001b[0m\u001b[0m\n",
            "\u001b[0;32mpandas/_libs/lib.pyx\u001b[0m in \u001b[0;36mpandas._libs.lib.map_infer\u001b[0;34m()\u001b[0m\n",
            "\u001b[0;32m<ipython-input-96-b18e716e337c>\u001b[0m in \u001b[0;36mpreprocess_func\u001b[0;34m(text)\u001b[0m\n\u001b[1;32m      1\u001b[0m \u001b[0;32mdef\u001b[0m \u001b[0mpreprocess_func\u001b[0m\u001b[0;34m(\u001b[0m\u001b[0mtext\u001b[0m\u001b[0;34m)\u001b[0m\u001b[0;34m:\u001b[0m\u001b[0;34m\u001b[0m\u001b[0;34m\u001b[0m\u001b[0m\n\u001b[1;32m      2\u001b[0m   \u001b[0;31m#word = text.split()\u001b[0m\u001b[0;34m\u001b[0m\u001b[0;34m\u001b[0m\u001b[0;34m\u001b[0m\u001b[0m\n\u001b[0;32m----> 3\u001b[0;31m   \u001b[0mword\u001b[0m \u001b[0;34m=\u001b[0m \u001b[0;34m[\u001b[0m\u001b[0mw\u001b[0m\u001b[0;34m.\u001b[0m\u001b[0mlower\u001b[0m\u001b[0;34m(\u001b[0m\u001b[0;34m)\u001b[0m \u001b[0;32mfor\u001b[0m \u001b[0mw\u001b[0m \u001b[0;32min\u001b[0m \u001b[0mword\u001b[0m \u001b[0;32mif\u001b[0m \u001b[0mw\u001b[0m \u001b[0;32mnot\u001b[0m \u001b[0;32min\u001b[0m \u001b[0mpunctuations\u001b[0m\u001b[0;34m]\u001b[0m\u001b[0;34m\u001b[0m\u001b[0;34m\u001b[0m\u001b[0m\n\u001b[0m\u001b[1;32m      4\u001b[0m   \u001b[0mword\u001b[0m \u001b[0;34m=\u001b[0m \u001b[0;34m\" \"\u001b[0m\u001b[0;34m.\u001b[0m\u001b[0mjoin\u001b[0m\u001b[0;34m(\u001b[0m\u001b[0mword\u001b[0m\u001b[0;34m)\u001b[0m\u001b[0;34m\u001b[0m\u001b[0;34m\u001b[0m\u001b[0m\n\u001b[1;32m      5\u001b[0m   \u001b[0mword\u001b[0m \u001b[0;34m=\u001b[0m \u001b[0mre\u001b[0m\u001b[0;34m.\u001b[0m\u001b[0msub\u001b[0m\u001b[0;34m(\u001b[0m\u001b[0;34mr\"[^A-Za-z0-9]\"\u001b[0m\u001b[0;34m,\u001b[0m \u001b[0;34m\" \"\u001b[0m\u001b[0;34m,\u001b[0m \u001b[0mword\u001b[0m\u001b[0;34m)\u001b[0m\u001b[0;34m\u001b[0m\u001b[0;34m\u001b[0m\u001b[0m\n",
            "\u001b[0;31mUnboundLocalError\u001b[0m: local variable 'word' referenced before assignment"
          ]
        }
      ]
    },
    {
      "cell_type": "code",
      "metadata": {
        "id": "cwou4sM5UjNq"
      },
      "source": [
        "import nltk"
      ],
      "execution_count": null,
      "outputs": []
    },
    {
      "cell_type": "code",
      "metadata": {
        "colab": {
          "base_uri": "https://localhost:8080/"
        },
        "id": "qMGv53u1STKq",
        "outputId": "fb1227de-5a83-45e4-a508-d92726c5d7c6"
      },
      "source": [
        "\"\"\"nltk.download('stopwords')\n",
        "from nltk.corpus import stopwords # Import stop words\n",
        "stop = stopwords.words('english')\n",
        "#df['headline'] = [w for w in df['headline'].str.lower() if w not in stopwords.words('english')]\"\"\""
      ],
      "execution_count": null,
      "outputs": [
        {
          "output_type": "stream",
          "text": [
            "[nltk_data] Downloading package stopwords to /root/nltk_data...\n",
            "[nltk_data]   Unzipping corpora/stopwords.zip.\n"
          ],
          "name": "stdout"
        }
      ]
    },
    {
      "cell_type": "code",
      "metadata": {
        "id": "P7sSAaenUoJv"
      },
      "source": [
        "\"\"\"df['headline']=df['headline'].apply(lambda words: ' '.join(word.lower() for word in words.split() if word not in stop))\"\"\""
      ],
      "execution_count": null,
      "outputs": []
    },
    {
      "cell_type": "code",
      "metadata": {
        "colab": {
          "base_uri": "https://localhost:8080/"
        },
        "id": "w96-xnznWZ1h",
        "outputId": "5418f293-ac7d-4def-d897-efbe083a4f2c"
      },
      "source": [
        "df['headline'].head()"
      ],
      "execution_count": 68,
      "outputs": [
        {
          "output_type": "execute_result",
          "data": {
            "text/plain": [
              "0    None\n",
              "1    None\n",
              "2    None\n",
              "3    None\n",
              "4    None\n",
              "Name: headline, dtype: object"
            ]
          },
          "metadata": {
            "tags": []
          },
          "execution_count": 68
        }
      ]
    },
    {
      "cell_type": "code",
      "metadata": {
        "id": "mo6gVcENXbK7"
      },
      "source": [
        "tokenizer = Tokenizer(num_words= max_features, split =' ' )\n",
        "tokenizer.fit_on_texts(df['headline'].values)\n",
        "X = tokenizer.texts_to_sequences(df['headline'].values)"
      ],
      "execution_count": null,
      "outputs": []
    },
    {
      "cell_type": "markdown",
      "metadata": {
        "id": "xeZpwPO4bOkZ"
      },
      "source": [
        "### Pad sequences (5 Marks)\n",
        "- Pad each example with a maximum length\n",
        "- Convert target column into numpy array"
      ]
    },
    {
      "cell_type": "code",
      "metadata": {
        "id": "_cjGC1mdcUYl"
      },
      "source": [
        "import numpy as np"
      ],
      "execution_count": null,
      "outputs": []
    },
    {
      "cell_type": "code",
      "metadata": {
        "id": "qV0K70E5c9Xl"
      },
      "source": [
        "X= pad_sequences(X, maxlen=maxlen, dtype='int32', padding='pre', truncating='pre', value=0.0)"
      ],
      "execution_count": null,
      "outputs": []
    },
    {
      "cell_type": "code",
      "metadata": {
        "colab": {
          "base_uri": "https://localhost:8080/"
        },
        "id": "MT4umJftcG9V",
        "outputId": "43e10e3d-a71f-4e33-d74e-cc91705f1ec0"
      },
      "source": [
        "y = np.array(df['is_sarcastic'])\n",
        "y"
      ],
      "execution_count": null,
      "outputs": [
        {
          "output_type": "execute_result",
          "data": {
            "text/plain": [
              "array([0, 0, 1, ..., 0, 0, 0])"
            ]
          },
          "metadata": {
            "tags": []
          },
          "execution_count": 24
        }
      ]
    },
    {
      "cell_type": "code",
      "metadata": {
        "colab": {
          "base_uri": "https://localhost:8080/"
        },
        "id": "4mMq8-5ZcqGZ",
        "outputId": "33271260-e317-4741-f2a5-0736c6d8ff9c"
      },
      "source": [
        "y.shape"
      ],
      "execution_count": null,
      "outputs": [
        {
          "output_type": "execute_result",
          "data": {
            "text/plain": [
              "(26709,)"
            ]
          },
          "metadata": {
            "tags": []
          },
          "execution_count": 25
        }
      ]
    },
    {
      "cell_type": "markdown",
      "metadata": {
        "id": "WJLyKg-98rH_"
      },
      "source": [
        "### Vocab mapping\n",
        "- There is no word for 0th index"
      ]
    },
    {
      "cell_type": "code",
      "metadata": {
        "colab": {
          "base_uri": "https://localhost:8080/"
        },
        "id": "vCNgtnQqdbZn",
        "outputId": "4bb9fe61-be15-45fe-acb8-6a3d43eb5319"
      },
      "source": [
        "tokenizer.word_index"
      ],
      "execution_count": null,
      "outputs": [
        {
          "output_type": "execute_result",
          "data": {
            "text/plain": [
              "{'new': 1,\n",
              " 'trump': 2,\n",
              " 'man': 3,\n",
              " 'us': 4,\n",
              " 'report': 5,\n",
              " 'one': 6,\n",
              " 'area': 7,\n",
              " 'donald': 8,\n",
              " 'says': 9,\n",
              " 'woman': 10,\n",
              " 'day': 11,\n",
              " 'time': 12,\n",
              " 'first': 13,\n",
              " 'like': 14,\n",
              " 'get': 15,\n",
              " 'trumps': 16,\n",
              " 'people': 17,\n",
              " 'obama': 18,\n",
              " 'house': 19,\n",
              " 'life': 20,\n",
              " 'make': 21,\n",
              " 'still': 22,\n",
              " 'women': 23,\n",
              " 'white': 24,\n",
              " 'back': 25,\n",
              " 'clinton': 26,\n",
              " 'world': 27,\n",
              " 'years': 28,\n",
              " 'could': 29,\n",
              " 'family': 30,\n",
              " 'americans': 31,\n",
              " 'way': 32,\n",
              " 'black': 33,\n",
              " 'gop': 34,\n",
              " 'study': 35,\n",
              " '5': 36,\n",
              " 'bill': 37,\n",
              " 'would': 38,\n",
              " 'best': 39,\n",
              " 'police': 40,\n",
              " 'watch': 41,\n",
              " 'really': 42,\n",
              " 'american': 43,\n",
              " 'show': 44,\n",
              " 'school': 45,\n",
              " 'cant': 46,\n",
              " 'know': 47,\n",
              " 'things': 48,\n",
              " 'good': 49,\n",
              " 'home': 50,\n",
              " 'death': 51,\n",
              " 'president': 52,\n",
              " 'finds': 53,\n",
              " 'year': 54,\n",
              " 'say': 55,\n",
              " 'video': 56,\n",
              " 'nation': 57,\n",
              " 'going': 58,\n",
              " 'love': 59,\n",
              " 'health': 60,\n",
              " 'last': 61,\n",
              " 'state': 62,\n",
              " 'hillary': 63,\n",
              " 'big': 64,\n",
              " 'parents': 65,\n",
              " 'may': 66,\n",
              " 'every': 67,\n",
              " 'mom': 68,\n",
              " 'kids': 69,\n",
              " 'campaign': 70,\n",
              " 'need': 71,\n",
              " 'gets': 72,\n",
              " 'getting': 73,\n",
              " 'party': 74,\n",
              " '10': 75,\n",
              " 'little': 76,\n",
              " '3': 77,\n",
              " 'work': 78,\n",
              " 'right': 79,\n",
              " 'change': 80,\n",
              " 'take': 81,\n",
              " 'dead': 82,\n",
              " 'dont': 83,\n",
              " 'makes': 84,\n",
              " 'america': 85,\n",
              " 'calls': 86,\n",
              " 'news': 87,\n",
              " 'court': 88,\n",
              " 'doesnt': 89,\n",
              " 'john': 90,\n",
              " 'heres': 91,\n",
              " 'want': 92,\n",
              " 'never': 93,\n",
              " 'look': 94,\n",
              " 'child': 95,\n",
              " 'takes': 96,\n",
              " 'war': 97,\n",
              " 'nations': 98,\n",
              " 'see': 99,\n",
              " 'gay': 100,\n",
              " 'next': 101,\n",
              " 'local': 102,\n",
              " 'stop': 103,\n",
              " 'hes': 104,\n",
              " 'go': 105,\n",
              " 'star': 106,\n",
              " 'even': 107,\n",
              " 'real': 108,\n",
              " 'guy': 109,\n",
              " 'election': 110,\n",
              " 'college': 111,\n",
              " '2': 112,\n",
              " 'bush': 113,\n",
              " 'office': 114,\n",
              " 'plan': 115,\n",
              " 'another': 116,\n",
              " 'got': 117,\n",
              " 'thing': 118,\n",
              " 'dad': 119,\n",
              " 'around': 120,\n",
              " 'game': 121,\n",
              " 'made': 122,\n",
              " 'help': 123,\n",
              " 'dog': 124,\n",
              " 'baby': 125,\n",
              " 'week': 126,\n",
              " 'wants': 127,\n",
              " 'gun': 128,\n",
              " 'job': 129,\n",
              " 'debate': 130,\n",
              " 'million': 131,\n",
              " 'live': 132,\n",
              " 'actually': 133,\n",
              " 'care': 134,\n",
              " 'congress': 135,\n",
              " 'friends': 136,\n",
              " 'high': 137,\n",
              " 'finally': 138,\n",
              " 'much': 139,\n",
              " 'north': 140,\n",
              " 'ever': 141,\n",
              " 'sex': 142,\n",
              " 'national': 143,\n",
              " 'students': 144,\n",
              " 'mans': 145,\n",
              " 'couple': 146,\n",
              " 'ways': 147,\n",
              " 'climate': 148,\n",
              " '7': 149,\n",
              " 'bad': 150,\n",
              " 'money': 151,\n",
              " 'wont': 152,\n",
              " 'god': 153,\n",
              " 'two': 154,\n",
              " 'shows': 155,\n",
              " 'better': 156,\n",
              " 'top': 157,\n",
              " 'give': 158,\n",
              " 'season': 159,\n",
              " '6': 160,\n",
              " 'night': 161,\n",
              " 'media': 162,\n",
              " 'teen': 163,\n",
              " 'shooting': 164,\n",
              " 'men': 165,\n",
              " '4': 166,\n",
              " 'reveals': 167,\n",
              " 'story': 168,\n",
              " 'trying': 169,\n",
              " 'sexual': 170,\n",
              " 'paul': 171,\n",
              " 'senate': 172,\n",
              " 'without': 173,\n",
              " 'away': 174,\n",
              " 'city': 175,\n",
              " 'supreme': 176,\n",
              " 'history': 177,\n",
              " 'old': 178,\n",
              " 'food': 179,\n",
              " 'announces': 180,\n",
              " 'making': 181,\n",
              " 'everyone': 182,\n",
              " 'children': 183,\n",
              " 'attack': 184,\n",
              " 'fight': 185,\n",
              " 'business': 186,\n",
              " 'deal': 187,\n",
              " 'enough': 188,\n",
              " 'facebook': 189,\n",
              " 'york': 190,\n",
              " 'face': 191,\n",
              " 'movie': 192,\n",
              " 'end': 193,\n",
              " 'introduces': 194,\n",
              " 'great': 195,\n",
              " 'pope': 196,\n",
              " 'sanders': 197,\n",
              " 'law': 198,\n",
              " 'friend': 199,\n",
              " 'part': 200,\n",
              " 'tell': 201,\n",
              " 'call': 202,\n",
              " 'tv': 203,\n",
              " 'former': 204,\n",
              " 'entire': 205,\n",
              " 'film': 206,\n",
              " 'son': 207,\n",
              " 'fire': 208,\n",
              " 'wedding': 209,\n",
              " 'found': 210,\n",
              " 'find': 211,\n",
              " 'book': 212,\n",
              " 'body': 213,\n",
              " 'government': 214,\n",
              " 'think': 215,\n",
              " 'come': 216,\n",
              " 'email': 217,\n",
              " 'girl': 218,\n",
              " 'pretty': 219,\n",
              " 'republican': 220,\n",
              " 'support': 221,\n",
              " 'speech': 222,\n",
              " 'single': 223,\n",
              " 'coming': 224,\n",
              " 'morning': 225,\n",
              " 'self': 226,\n",
              " 'photos': 227,\n",
              " 'presidential': 228,\n",
              " 'james': 229,\n",
              " 'car': 230,\n",
              " 'future': 231,\n",
              " 'republicans': 232,\n",
              " 'use': 233,\n",
              " 'keep': 234,\n",
              " 'power': 235,\n",
              " 'thinks': 236,\n",
              " 'public': 237,\n",
              " 'run': 238,\n",
              " 'didnt': 239,\n",
              " 'rights': 240,\n",
              " 'christmas': 241,\n",
              " 'name': 242,\n",
              " 'already': 243,\n",
              " '8': 244,\n",
              " 'democrats': 245,\n",
              " 'talk': 246,\n",
              " 'case': 247,\n",
              " 'company': 248,\n",
              " 'fans': 249,\n",
              " 'marriage': 250,\n",
              " 'violence': 251,\n",
              " 'girls': 252,\n",
              " 'voters': 253,\n",
              " 'behind': 254,\n",
              " 'line': 255,\n",
              " 'im': 256,\n",
              " '2016': 257,\n",
              " 'releases': 258,\n",
              " 'worlds': 259,\n",
              " 'tax': 260,\n",
              " 'race': 261,\n",
              " 'killed': 262,\n",
              " 'security': 263,\n",
              " 'vote': 264,\n",
              " 'human': 265,\n",
              " 'states': 266,\n",
              " 'secret': 267,\n",
              " 'used': 268,\n",
              " 'goes': 269,\n",
              " 'long': 270,\n",
              " 'might': 271,\n",
              " 'something': 272,\n",
              " 'must': 273,\n",
              " 'group': 274,\n",
              " '20': 275,\n",
              " 'days': 276,\n",
              " 'asks': 277,\n",
              " 'free': 278,\n",
              " 'ban': 279,\n",
              " 'win': 280,\n",
              " 'bernie': 281,\n",
              " 'twitter': 282,\n",
              " 'student': 283,\n",
              " 'team': 284,\n",
              " 'times': 285,\n",
              " 'boy': 286,\n",
              " 'open': 287,\n",
              " 'looking': 288,\n",
              " 'poll': 289,\n",
              " 'room': 290,\n",
              " 'department': 291,\n",
              " 'ad': 292,\n",
              " 'ryan': 293,\n",
              " 'sure': 294,\n",
              " 'middle': 295,\n",
              " 'political': 296,\n",
              " 'inside': 297,\n",
              " 'teacher': 298,\n",
              " 'minutes': 299,\n",
              " 'claims': 300,\n",
              " '1': 301,\n",
              " 'control': 302,\n",
              " 'super': 303,\n",
              " 'judge': 304,\n",
              " 'art': 305,\n",
              " 'many': 306,\n",
              " 'country': 307,\n",
              " 'forced': 308,\n",
              " 'lets': 309,\n",
              " 'music': 310,\n",
              " 'perfect': 311,\n",
              " 'save': 312,\n",
              " 'meet': 313,\n",
              " 'plans': 314,\n",
              " 'missing': 315,\n",
              " 'running': 316,\n",
              " 'unveils': 317,\n",
              " 'obamacare': 318,\n",
              " 'second': 319,\n",
              " 'reports': 320,\n",
              " 'living': 321,\n",
              " '12': 322,\n",
              " 'everything': 323,\n",
              " 'scientists': 324,\n",
              " 'social': 325,\n",
              " 'put': 326,\n",
              " 'wife': 327,\n",
              " 'youre': 328,\n",
              " 'tells': 329,\n",
              " 'california': 330,\n",
              " 'always': 331,\n",
              " 'justice': 332,\n",
              " 'photo': 333,\n",
              " 'person': 334,\n",
              " 'summer': 335,\n",
              " 'red': 336,\n",
              " 'dies': 337,\n",
              " 'let': 338,\n",
              " 'texas': 339,\n",
              " 'female': 340,\n",
              " 'full': 341,\n",
              " 'looks': 342,\n",
              " 'talks': 343,\n",
              " 'candidate': 344,\n",
              " 'pay': 345,\n",
              " 'ready': 346,\n",
              " 'comes': 347,\n",
              " 'head': 348,\n",
              " 'michael': 349,\n",
              " 'secretary': 350,\n",
              " 'employee': 351,\n",
              " 'mother': 352,\n",
              " 'needs': 353,\n",
              " 'warns': 354,\n",
              " 'water': 355,\n",
              " 'list': 356,\n",
              " 'father': 357,\n",
              " 'lives': 358,\n",
              " 'past': 359,\n",
              " 'admits': 360,\n",
              " 'mike': 361,\n",
              " 'taking': 362,\n",
              " 'wall': 363,\n",
              " 'ceo': 364,\n",
              " 'working': 365,\n",
              " 'womens': 366,\n",
              " 'cancer': 367,\n",
              " 'set': 368,\n",
              " 'wrong': 369,\n",
              " 'crisis': 370,\n",
              " 'record': 371,\n",
              " 'gives': 372,\n",
              " 'today': 373,\n",
              " 'biden': 374,\n",
              " 'idea': 375,\n",
              " 'thought': 376,\n",
              " 'kim': 377,\n",
              " 'letter': 378,\n",
              " 'george': 379,\n",
              " 'shot': 380,\n",
              " 'hot': 381,\n",
              " 'cruz': 382,\n",
              " 'wins': 383,\n",
              " 'stars': 384,\n",
              " 'left': 385,\n",
              " 'town': 386,\n",
              " 'heart': 387,\n",
              " 'hours': 388,\n",
              " 'dream': 389,\n",
              " 'probably': 390,\n",
              " 'start': 391,\n",
              " 'romney': 392,\n",
              " 'young': 393,\n",
              " 'meeting': 394,\n",
              " 'south': 395,\n",
              " 'korea': 396,\n",
              " 'lost': 397,\n",
              " 'daughter': 398,\n",
              " 'percent': 399,\n",
              " 'education': 400,\n",
              " 'tips': 401,\n",
              " 'service': 402,\n",
              " 'nothing': 403,\n",
              " 'moms': 404,\n",
              " 'fbi': 405,\n",
              " 'street': 406,\n",
              " 'obamas': 407,\n",
              " 'place': 408,\n",
              " 'kill': 409,\n",
              " 'age': 410,\n",
              " 'three': 411,\n",
              " 'isis': 412,\n",
              " 'shes': 413,\n",
              " 'russia': 414,\n",
              " 'thousands': 415,\n",
              " 'breaking': 416,\n",
              " 'phone': 417,\n",
              " 'fucking': 418,\n",
              " 'believe': 419,\n",
              " 'tweets': 420,\n",
              " 'together': 421,\n",
              " 'someone': 422,\n",
              " 'rock': 423,\n",
              " 'eating': 424,\n",
              " 'chief': 425,\n",
              " 'march': 426,\n",
              " 'yet': 427,\n",
              " 'washington': 428,\n",
              " 'officials': 429,\n",
              " 'restaurant': 430,\n",
              " 'administration': 431,\n",
              " 'talking': 432,\n",
              " 'online': 433,\n",
              " 'feel': 434,\n",
              " 'cat': 435,\n",
              " 'leaves': 436,\n",
              " 'ted': 437,\n",
              " 'francis': 438,\n",
              " 'questions': 439,\n",
              " 'military': 440,\n",
              " 'fan': 441,\n",
              " 'class': 442,\n",
              " 'guide': 443,\n",
              " 'order': 444,\n",
              " 'owner': 445,\n",
              " 'director': 446,\n",
              " 'months': 447,\n",
              " 'federal': 448,\n",
              " 'chris': 449,\n",
              " 'attacks': 450,\n",
              " 'birthday': 451,\n",
              " 'earth': 452,\n",
              " 'move': 453,\n",
              " 'whats': 454,\n",
              " 'internet': 455,\n",
              " 'giving': 456,\n",
              " 'air': 457,\n",
              " 'problem': 458,\n",
              " 'hollywood': 459,\n",
              " 'florida': 460,\n",
              " 'ask': 461,\n",
              " 'beautiful': 462,\n",
              " 'small': 463,\n",
              " 'king': 464,\n",
              " 'reason': 465,\n",
              " 'sleep': 466,\n",
              " 'latest': 467,\n",
              " 'series': 468,\n",
              " 'happy': 469,\n",
              " 'nuclear': 470,\n",
              " 'americas': 471,\n",
              " 'congressman': 472,\n",
              " 'drug': 473,\n",
              " 'different': 474,\n",
              " 'assault': 475,\n",
              " '15': 476,\n",
              " 'word': 477,\n",
              " 'buy': 478,\n",
              " 'personal': 479,\n",
              " 'rules': 480,\n",
              " 'less': 481,\n",
              " 'majority': 482,\n",
              " 'prison': 483,\n",
              " 'told': 484,\n",
              " 'democratic': 485,\n",
              " 'outside': 486,\n",
              " 'lot': 487,\n",
              " 'shit': 488,\n",
              " 'moment': 489,\n",
              " 'isnt': 490,\n",
              " 'iran': 491,\n",
              " 'reasons': 492,\n",
              " 'leaders': 493,\n",
              " 'holiday': 494,\n",
              " '2015': 495,\n",
              " 'fox': 496,\n",
              " 'community': 497,\n",
              " 'leave': 498,\n",
              " 'travel': 499,\n",
              " 'kind': 500,\n",
              " 'system': 501,\n",
              " '9': 502,\n",
              " 'response': 503,\n",
              " 'rise': 504,\n",
              " 'hard': 505,\n",
              " 'play': 506,\n",
              " 'victims': 507,\n",
              " 'fun': 508,\n",
              " 'favorite': 509,\n",
              " 'mark': 510,\n",
              " 'issues': 511,\n",
              " 'interview': 512,\n",
              " 'relationship': 513,\n",
              " 'hell': 514,\n",
              " 'jimmy': 515,\n",
              " 'month': 516,\n",
              " 'huge': 517,\n",
              " 'box': 518,\n",
              " 'celebrates': 519,\n",
              " 'special': 520,\n",
              " 'mothers': 521,\n",
              " 'excited': 522,\n",
              " 'kid': 523,\n",
              " 'huffpost': 524,\n",
              " 'read': 525,\n",
              " 'immigration': 526,\n",
              " 'protest': 527,\n",
              " 'bar': 528,\n",
              " 'scott': 529,\n",
              " 'gift': 530,\n",
              " 'following': 531,\n",
              " 'hope': 532,\n",
              " 'cops': 533,\n",
              " 'using': 534,\n",
              " 'offers': 535,\n",
              " 'thinking': 536,\n",
              " 'message': 537,\n",
              " 'trailer': 538,\n",
              " 'well': 539,\n",
              " 'trip': 540,\n",
              " 'knows': 541,\n",
              " 'politics': 542,\n",
              " 'weekend': 543,\n",
              " 'ice': 544,\n",
              " 'watching': 545,\n",
              " 'candidates': 546,\n",
              " 'visit': 547,\n",
              " 'stephen': 548,\n",
              " 'muslim': 549,\n",
              " 'straight': 550,\n",
              " 'lessons': 551,\n",
              " 'david': 552,\n",
              " 'union': 553,\n",
              " 'hate': 554,\n",
              " 'tom': 555,\n",
              " 'since': 556,\n",
              " 'china': 557,\n",
              " '911': 558,\n",
              " 'hit': 559,\n",
              " 'russian': 560,\n",
              " 'cover': 561,\n",
              " 'accused': 562,\n",
              " 'taylor': 563,\n",
              " 'front': 564,\n",
              " 'bring': 565,\n",
              " '11': 566,\n",
              " 'anything': 567,\n",
              " 'senator': 568,\n",
              " 'schools': 569,\n",
              " 'employees': 570,\n",
              " 'conversation': 571,\n",
              " 'hair': 572,\n",
              " 'millions': 573,\n",
              " 'un': 574,\n",
              " 'queer': 575,\n",
              " 'drunk': 576,\n",
              " 'least': 577,\n",
              " '50': 578,\n",
              " 'date': 579,\n",
              " 'chinese': 580,\n",
              " 'adorable': 581,\n",
              " '30': 582,\n",
              " 'birth': 583,\n",
              " 'cop': 584,\n",
              " 'break': 585,\n",
              " 'words': 586,\n",
              " 'joe': 587,\n",
              " 'syria': 588,\n",
              " 'powerful': 589,\n",
              " 'theyre': 590,\n",
              " 'united': 591,\n",
              " 'reality': 592,\n",
              " 'leader': 593,\n",
              " 'mass': 594,\n",
              " 'billion': 595,\n",
              " 'become': 596,\n",
              " 'investigation': 597,\n",
              " 'opens': 598,\n",
              " 'whole': 599,\n",
              " 'third': 600,\n",
              " 'theres': 601,\n",
              " 'learned': 602,\n",
              " 'totally': 603,\n",
              " 'career': 604,\n",
              " 'true': 605,\n",
              " 'waiting': 606,\n",
              " 'die': 607,\n",
              " 'returns': 608,\n",
              " 'early': 609,\n",
              " 'syrian': 610,\n",
              " 'massive': 611,\n",
              " 'almost': 612,\n",
              " 'wars': 613,\n",
              " 'fashion': 614,\n",
              " 'turn': 615,\n",
              " 'workers': 616,\n",
              " 'breaks': 617,\n",
              " 'point': 618,\n",
              " 'fall': 619,\n",
              " 'feels': 620,\n",
              " 'girlfriend': 621,\n",
              " 'policy': 622,\n",
              " 'stage': 623,\n",
              " 'hits': 624,\n",
              " 'killing': 625,\n",
              " 'apple': 626,\n",
              " 'sports': 627,\n",
              " 'awards': 628,\n",
              " 'worried': 629,\n",
              " 'kills': 630,\n",
              " 'abortion': 631,\n",
              " 'iraq': 632,\n",
              " 'song': 633,\n",
              " 'wearing': 634,\n",
              " 'dance': 635,\n",
              " 'dating': 636,\n",
              " 'turns': 637,\n",
              " 'teens': 638,\n",
              " 'completely': 639,\n",
              " 'puts': 640,\n",
              " 'spends': 641,\n",
              " 'dinner': 642,\n",
              " 'vows': 643,\n",
              " 'sick': 644,\n",
              " 'late': 645,\n",
              " 'crash': 646,\n",
              " 'worst': 647,\n",
              " 'names': 648,\n",
              " 'final': 649,\n",
              " 'global': 650,\n",
              " 'weird': 651,\n",
              " 'signs': 652,\n",
              " 'sign': 653,\n",
              " 'murder': 654,\n",
              " 'host': 655,\n",
              " 'pence': 656,\n",
              " 'prince': 657,\n",
              " 'trans': 658,\n",
              " 'experience': 659,\n",
              " 'reportedly': 660,\n",
              " 'decision': 661,\n",
              " 'adds': 662,\n",
              " 'fighting': 663,\n",
              " 'surprise': 664,\n",
              " 'hands': 665,\n",
              " 'transgender': 666,\n",
              " 'key': 667,\n",
              " 'anniversary': 668,\n",
              " 'moving': 669,\n",
              " 'seen': 670,\n",
              " 'called': 671,\n",
              " 'center': 672,\n",
              " 'force': 673,\n",
              " 'paris': 674,\n",
              " 'members': 675,\n",
              " 'advice': 676,\n",
              " 'bus': 677,\n",
              " 'road': 678,\n",
              " 'post': 679,\n",
              " 'struggling': 680,\n",
              " 'discover': 681,\n",
              " 'nfl': 682,\n",
              " 'act': 683,\n",
              " 'across': 684,\n",
              " 'kardashian': 685,\n",
              " 'return': 686,\n",
              " 'keeps': 687,\n",
              " 'users': 688,\n",
              " '2017': 689,\n",
              " 'official': 690,\n",
              " 'suicide': 691,\n",
              " 'store': 692,\n",
              " 'fear': 693,\n",
              " 'lose': 694,\n",
              " '100': 695,\n",
              " 'longer': 696,\n",
              " 'voice': 697,\n",
              " 'rubio': 698,\n",
              " 'peace': 699,\n",
              " 'brings': 700,\n",
              " 'boys': 701,\n",
              " 'planned': 702,\n",
              " 'lead': 703,\n",
              " 'weeks': 704,\n",
              " 'walking': 705,\n",
              " 'important': 706,\n",
              " 'university': 707,\n",
              " 'reform': 708,\n",
              " 'coworker': 709,\n",
              " 'light': 710,\n",
              " 'ferguson': 711,\n",
              " 'industry': 712,\n",
              " 'starting': 713,\n",
              " 'program': 714,\n",
              " 'artist': 715,\n",
              " 'oil': 716,\n",
              " 'coffee': 717,\n",
              " '2014': 718,\n",
              " 'whether': 719,\n",
              " 'weight': 720,\n",
              " 'worth': 721,\n",
              " 'eat': 722,\n",
              " 'west': 723,\n",
              " 'oscars': 724,\n",
              " 'audience': 725,\n",
              " 'hoping': 726,\n",
              " 'steve': 727,\n",
              " 'jobs': 728,\n",
              " 'wait': 729,\n",
              " 'suspect': 730,\n",
              " 'harry': 731,\n",
              " 'given': 732,\n",
              " 'stand': 733,\n",
              " 'magazine': 734,\n",
              " 'question': 735,\n",
              " 'band': 736,\n",
              " 'biggest': 737,\n",
              " 'hall': 738,\n",
              " 'nyc': 739,\n",
              " 'major': 740,\n",
              " 'michelle': 741,\n",
              " 'beauty': 742,\n",
              " 'risk': 743,\n",
              " 'remember': 744,\n",
              " 'chicago': 745,\n",
              " 'possible': 746,\n",
              " 'test': 747,\n",
              " 'apartment': 748,\n",
              " 'governor': 749,\n",
              " 'iowa': 750,\n",
              " 'executive': 751,\n",
              " 'success': 752,\n",
              " 'mind': 753,\n",
              " 'chance': 754,\n",
              " 'amazon': 755,\n",
              " 'protesters': 756,\n",
              " 'ideas': 757,\n",
              " 'refugees': 758,\n",
              " 'williams': 759,\n",
              " 'abuse': 760,\n",
              " 'clearly': 761,\n",
              " 'role': 762,\n",
              " 'supporters': 763,\n",
              " 'google': 764,\n",
              " 'hurricane': 765,\n",
              " 'space': 766,\n",
              " 'moore': 767,\n",
              " 'carolina': 768,\n",
              " 'allegations': 769,\n",
              " 'halloween': 770,\n",
              " 'poor': 771,\n",
              " 'five': 772,\n",
              " 'planet': 773,\n",
              " '13': 774,\n",
              " 'hand': 775,\n",
              " 'playing': 776,\n",
              " 'cool': 777,\n",
              " 'mental': 778,\n",
              " 'try': 779,\n",
              " 'cut': 780,\n",
              " 'tour': 781,\n",
              " 'hear': 782,\n",
              " 'demands': 783,\n",
              " 'press': 784,\n",
              " 'wishes': 785,\n",
              " 'green': 786,\n",
              " 'problems': 787,\n",
              " 'asking': 788,\n",
              " 'celebrate': 789,\n",
              " 'push': 790,\n",
              " 'fuck': 791,\n",
              " 'oscar': 792,\n",
              " 'park': 793,\n",
              " 'far': 794,\n",
              " 'homeless': 795,\n",
              " 'plane': 796,\n",
              " 'football': 797,\n",
              " 'eyes': 798,\n",
              " 'general': 799,\n",
              " 'sean': 800,\n",
              " 'jr': 801,\n",
              " 'doctor': 802,\n",
              " 'vacation': 803,\n",
              " 'throws': 804,\n",
              " 'ben': 805,\n",
              " 'table': 806,\n",
              " 'hilarious': 807,\n",
              " 'pregnant': 808,\n",
              " 'dying': 809,\n",
              " 'colbert': 810,\n",
              " 'side': 811,\n",
              " 'urges': 812,\n",
              " 'reveal': 813,\n",
              " 'simple': 814,\n",
              " 'economy': 815,\n",
              " 'emotional': 816,\n",
              " 'robert': 817,\n",
              " 'building': 818,\n",
              " 'learn': 819,\n",
              " 'number': 820,\n",
              " 'rest': 821,\n",
              " 'album': 822,\n",
              " 'receives': 823,\n",
              " 'church': 824,\n",
              " 'begins': 825,\n",
              " 'deadly': 826,\n",
              " 'happened': 827,\n",
              " 'uses': 828,\n",
              " 'families': 829,\n",
              " 'card': 830,\n",
              " 'kerry': 831,\n",
              " 'picture': 832,\n",
              " 'marijuana': 833,\n",
              " 'fails': 834,\n",
              " 'voter': 835,\n",
              " 'proud': 836,\n",
              " 'humans': 837,\n",
              " 'board': 838,\n",
              " 'shares': 839,\n",
              " 'leads': 840,\n",
              " 'feeling': 841,\n",
              " 'suggests': 842,\n",
              " 'amazing': 843,\n",
              " 'results': 844,\n",
              " 'guys': 845,\n",
              " 'worse': 846,\n",
              " 'dogs': 847,\n",
              " 'hour': 848,\n",
              " 'check': 849,\n",
              " 'queen': 850,\n",
              " 'jenner': 851,\n",
              " 'racist': 852,\n",
              " 'arrested': 853,\n",
              " 'driving': 854,\n",
              " 'male': 855,\n",
              " 'leaving': 856,\n",
              " 'address': 857,\n",
              " 'performance': 858,\n",
              " 'amid': 859,\n",
              " 'epa': 860,\n",
              " 'finding': 861,\n",
              " 'door': 862,\n",
              " 'movies': 863,\n",
              " 'officer': 864,\n",
              " 'netflix': 865,\n",
              " 'easy': 866,\n",
              " 'desperate': 867,\n",
              " 'hero': 868,\n",
              " 'quietly': 869,\n",
              " 'data': 870,\n",
              " 'cnn': 871,\n",
              " 'demand': 872,\n",
              " 'website': 873,\n",
              " 'explains': 874,\n",
              " 'older': 875,\n",
              " 'lgbt': 876,\n",
              " 'st': 877,\n",
              " 'pizza': 878,\n",
              " 'close': 879,\n",
              " 'rally': 880,\n",
              " 'sales': 881,\n",
              " 'apparently': 882,\n",
              " 'dads': 883,\n",
              " 'went': 884,\n",
              " 'chicken': 885,\n",
              " 'opening': 886,\n",
              " 'mean': 887,\n",
              " 'said': 888,\n",
              " 'apologizes': 889,\n",
              " 'teachers': 890,\n",
              " 'culture': 891,\n",
              " 'elizabeth': 892,\n",
              " 'ebola': 893,\n",
              " 'responds': 894,\n",
              " 'done': 895,\n",
              " 'matter': 896,\n",
              " 'documentary': 897,\n",
              " 'near': 898,\n",
              " 'boss': 899,\n",
              " 'steps': 900,\n",
              " 'snl': 901,\n",
              " 'fake': 902,\n",
              " 'religious': 903,\n",
              " 'bathroom': 904,\n",
              " 'bowl': 905,\n",
              " 'spring': 906,\n",
              " 'repeal': 907,\n",
              " 'shop': 908,\n",
              " 'harassment': 909,\n",
              " 'israel': 910,\n",
              " 'dark': 911,\n",
              " 'likely': 912,\n",
              " 'east': 913,\n",
              " 'leading': 914,\n",
              " 'pick': 915,\n",
              " 'grandma': 916,\n",
              " 'jones': 917,\n",
              " 'energy': 918,\n",
              " 'slams': 919,\n",
              " 'anyone': 920,\n",
              " 'battle': 921,\n",
              " 'train': 922,\n",
              " 'truth': 923,\n",
              " 'toward': 924,\n",
              " 'doctors': 925,\n",
              " 'actor': 926,\n",
              " 'kelly': 927,\n",
              " 'senators': 928,\n",
              " 'swift': 929,\n",
              " 'coworkers': 930,\n",
              " 'voting': 931,\n",
              " 'prevent': 932,\n",
              " 'private': 933,\n",
              " 'despite': 934,\n",
              " 'perfectly': 935,\n",
              " 'loses': 936,\n",
              " 'manager': 937,\n",
              " 'thats': 938,\n",
              " 'crime': 939,\n",
              " 'also': 940,\n",
              " 'sad': 941,\n",
              " 'telling': 942,\n",
              " 'al': 943,\n",
              " 'commercial': 944,\n",
              " 'nice': 945,\n",
              " 'hopes': 946,\n",
              " 'youth': 947,\n",
              " 'action': 948,\n",
              " 'san': 949,\n",
              " 'gave': 950,\n",
              " 'spend': 951,\n",
              " 'reporter': 952,\n",
              " 'happens': 953,\n",
              " 'winter': 954,\n",
              " 'historical': 955,\n",
              " 'olympic': 956,\n",
              " 'defense': 957,\n",
              " 'residents': 958,\n",
              " 'hospital': 959,\n",
              " 'foreign': 960,\n",
              " 'soon': 961,\n",
              " 'avoid': 962,\n",
              " 'short': 963,\n",
              " 'forward': 964,\n",
              " 'eric': 965,\n",
              " 'reminds': 966,\n",
              " 'driver': 967,\n",
              " 'loss': 968,\n",
              " 'healthy': 969,\n",
              " 'arent': 970,\n",
              " 'color': 971,\n",
              " 'fast': 972,\n",
              " 'womans': 973,\n",
              " 'jeff': 974,\n",
              " 'eye': 975,\n",
              " 'holding': 976,\n",
              " 'faces': 977,\n",
              " 'martin': 978,\n",
              " 'tweet': 979,\n",
              " 'evidence': 980,\n",
              " 'mayor': 981,\n",
              " 'skin': 982,\n",
              " 'daily': 983,\n",
              " 'died': 984,\n",
              " 'sound': 985,\n",
              " 'budget': 986,\n",
              " 'episode': 987,\n",
              " 'rape': 988,\n",
              " 'fired': 989,\n",
              " 'sons': 990,\n",
              " 'threat': 991,\n",
              " 'legal': 992,\n",
              " 'airport': 993,\n",
              " 'nearly': 994,\n",
              " 'christian': 995,\n",
              " 'hotel': 996,\n",
              " 'dreams': 997,\n",
              " 'comments': 998,\n",
              " 'announce': 999,\n",
              " 'clean': 1000,\n",
              " ...}"
            ]
          },
          "metadata": {
            "tags": []
          },
          "execution_count": 26
        }
      ]
    },
    {
      "cell_type": "markdown",
      "metadata": {
        "id": "VRiNX58Rb3oJ"
      },
      "source": [
        "### Set number of words\n",
        "- Since the above 0th index doesn't have a word, add 1 to the length of the vocabulary"
      ]
    },
    {
      "cell_type": "code",
      "metadata": {
        "colab": {
          "base_uri": "https://localhost:8080/"
        },
        "id": "Dfwq6ou8ck2f",
        "outputId": "99826554-9e59-4bd0-9d48-8fa4be3d4479"
      },
      "source": [
        "num_words = len(tokenizer.word_index) + 1\n",
        "print(num_words)"
      ],
      "execution_count": null,
      "outputs": [
        {
          "output_type": "stream",
          "text": [
            "28252\n"
          ],
          "name": "stdout"
        }
      ]
    },
    {
      "cell_type": "code",
      "metadata": {
        "colab": {
          "base_uri": "https://localhost:8080/"
        },
        "id": "rL5chwWr0ApM",
        "outputId": "e9c80852-7a49-4433-b7fb-9240b7572f7c"
      },
      "source": [
        "X.shape"
      ],
      "execution_count": null,
      "outputs": [
        {
          "output_type": "execute_result",
          "data": {
            "text/plain": [
              "(26709, 25)"
            ]
          },
          "metadata": {
            "tags": []
          },
          "execution_count": 28
        }
      ]
    },
    {
      "cell_type": "markdown",
      "metadata": {
        "id": "bUF1TuQa8ux0"
      },
      "source": [
        "### Load Glove Word Embeddings (5 Marks)"
      ]
    },
    {
      "cell_type": "markdown",
      "metadata": {
        "id": "a2WV07vzTEbD"
      },
      "source": [
        "The Glove embeddings are loaded in path '/content/drive/My Drive/Sarcasm Detection NLP/"
      ]
    },
    {
      "cell_type": "code",
      "metadata": {
        "id": "2zo23NXV2Idr"
      },
      "source": [
        "zip_path = '/content/drive/My Drive/Sarcasm Detection NLP/glove.6B.zip'"
      ],
      "execution_count": null,
      "outputs": []
    },
    {
      "cell_type": "markdown",
      "metadata": {
        "id": "HpX1C4fHsu08"
      },
      "source": [
        ""
      ]
    },
    {
      "cell_type": "code",
      "metadata": {
        "id": "lD54SCrZ80rG"
      },
      "source": [
        "from zipfile import ZipFile\n",
        "with ZipFile(zip_path, 'r') as z:\n",
        "  z.extractall()"
      ],
      "execution_count": null,
      "outputs": []
    },
    {
      "cell_type": "markdown",
      "metadata": {
        "id": "prHSzdQUcZhm"
      },
      "source": [
        "### Create embedding matrix"
      ]
    },
    {
      "cell_type": "code",
      "metadata": {
        "id": "elZ-T5aFGZmZ"
      },
      "source": [
        "EMBEDDING_FILE = '/content/drive/My Drive/Sarcasm Detection NLP/glove.6B.200d.txt'\n",
        "\n",
        "embeddings = {}\n",
        "for o in open(EMBEDDING_FILE):\n",
        "    word = o.split(\" \")[0]\n",
        "    # print(word)\n",
        "    embd = o.split(\" \")[1:]\n",
        "    embd = np.asarray(embd, dtype='float32')\n",
        "    # print(embd)\n",
        "    embeddings[word] = embd\n",
        "\n",
        "# create a weight matrix for words in training docs\n",
        "embedding_matrix = np.zeros((num_words, 200))\n",
        "\n",
        "for word, i in tokenizer.word_index.items():\n",
        "\tembedding_vector = embeddings.get(word)\n",
        "\tif embedding_vector is not None:\n",
        "\t\tembedding_matrix[i] = embedding_vector"
      ],
      "execution_count": null,
      "outputs": []
    },
    {
      "cell_type": "code",
      "metadata": {
        "colab": {
          "base_uri": "https://localhost:8080/"
        },
        "id": "ClCeiX0Gz5Mr",
        "outputId": "cf6ca885-f0c8-4775-d1ce-17593a974ad7"
      },
      "source": [
        "embedding_matrix.shape"
      ],
      "execution_count": null,
      "outputs": [
        {
          "output_type": "execute_result",
          "data": {
            "text/plain": [
              "(28252, 200)"
            ]
          },
          "metadata": {
            "tags": []
          },
          "execution_count": 34
        }
      ]
    },
    {
      "cell_type": "code",
      "metadata": {
        "colab": {
          "base_uri": "https://localhost:8080/"
        },
        "id": "RdeG-CuQQEOF",
        "outputId": "e1563444-23a7-42b7-807d-f3964dd417df"
      },
      "source": [
        "embedding_vector.shape"
      ],
      "execution_count": null,
      "outputs": [
        {
          "output_type": "execute_result",
          "data": {
            "text/plain": [
              "(200,)"
            ]
          },
          "metadata": {
            "tags": []
          },
          "execution_count": 35
        }
      ]
    },
    {
      "cell_type": "markdown",
      "metadata": {
        "id": "u7IbWuEX82Ra"
      },
      "source": [
        "### Define model (10 Marks)\n",
        "- Hint: Use Sequential model instance and then add Embedding layer, Bidirectional(LSTM) layer, flatten it, then dense and dropout layers as required. \n",
        "In the end add a final dense layer with sigmoid activation for binary classification."
      ]
    },
    {
      "cell_type": "code",
      "metadata": {
        "id": "aMoLQDLMChVK"
      },
      "source": [
        "from tensorflow.keras.datasets import imdb\n",
        "from tensorflow.keras.models import Sequential\n",
        "from tensorflow.keras.layers import Dense\n",
        "from keras.layers.embeddings import Embedding\n",
        "from tensorflow.keras.preprocessing import sequence\n",
        "from tensorflow.keras.layers import Flatten\n",
        "from tensorflow.keras.layers import TimeDistributed, LSTM, Dropout\n",
        "from tensorflow.keras.layers import Bidirectional\n",
        "from tensorflow.keras.layers import *\n",
        "from tensorflow.keras.optimizers import Adam"
      ],
      "execution_count": null,
      "outputs": []
    },
    {
      "cell_type": "code",
      "metadata": {
        "id": "0PfPMOJ33e8-"
      },
      "source": [
        "import tensorflow"
      ],
      "execution_count": null,
      "outputs": []
    },
    {
      "cell_type": "code",
      "metadata": {
        "colab": {
          "base_uri": "https://localhost:8080/",
          "height": 754
        },
        "id": "4tv168Gmc3PY",
        "outputId": "435b4157-4227-42bb-af75-6af9a0e39b03"
      },
      "source": [
        "model = Sequential()\n",
        "model.add(Embedding(num_words, output_dim = 200, weights=[embedding_matrix], input_length= maxlen, trainable = True))\n",
        "model.add(SpatialDropout1D(0.4))\n",
        "model.add(Bidirectional(LSTM(128, return_sequences=True, dropout=0.3, recurrent_dropout=0.3)))\n",
        "model.add(Bidirectional(GRU(units = 32, dropout=0.2, recurrent_dropout=0.2)))\n",
        "model.add(Flatten())\n",
        "model.add(Dense(1, activation= 'sigmoid'))\n",
        "tensorflow.keras.utils.plot_model(model, show_shapes=True, show_layer_names=True, rankdir='TB', expand_nested=False, dpi=96)"
      ],
      "execution_count": null,
      "outputs": [
        {
          "output_type": "execute_result",
          "data": {
            "image/png": "[encoded data removed]",
            "text/plain": [
              "<IPython.core.display.Image object>"
            ]
          },
          "metadata": {
            "tags": []
          },
          "execution_count": 38
        }
      ]
    },
    {
      "cell_type": "markdown",
      "metadata": {
        "id": "xoI7_8Y1cqTj"
      },
      "source": [
        "### Compile the model (5 Marks)"
      ]
    },
    {
      "cell_type": "code",
      "metadata": {
        "id": "-jJiPHeNoJ3U"
      },
      "source": [
        "model.compile(loss = 'binary_crossentropy', optimizer='adam',metrics = ['accuracy'])"
      ],
      "execution_count": null,
      "outputs": []
    },
    {
      "cell_type": "code",
      "metadata": {
        "colab": {
          "base_uri": "https://localhost:8080/"
        },
        "id": "1IdgxpUh_wxL",
        "outputId": "9c341efd-0382-4dc4-e989-7551ea084458"
      },
      "source": [
        "model.summary()"
      ],
      "execution_count": null,
      "outputs": [
        {
          "output_type": "stream",
          "text": [
            "Model: \"sequential\"\n",
            "_________________________________________________________________\n",
            "Layer (type)                 Output Shape              Param #   \n",
            "=================================================================\n",
            "embedding (Embedding)        (None, 25, 200)           5650400   \n",
            "_________________________________________________________________\n",
            "spatial_dropout1d (SpatialDr (None, 25, 200)           0         \n",
            "_________________________________________________________________\n",
            "bidirectional (Bidirectional (None, 25, 256)           336896    \n",
            "_________________________________________________________________\n",
            "bidirectional_1 (Bidirection (None, 64)                55680     \n",
            "_________________________________________________________________\n",
            "flatten (Flatten)            (None, 64)                0         \n",
            "_________________________________________________________________\n",
            "dense (Dense)                (None, 1)                 65        \n",
            "=================================================================\n",
            "Total params: 6,043,041\n",
            "Trainable params: 6,043,041\n",
            "Non-trainable params: 0\n",
            "_________________________________________________________________\n"
          ],
          "name": "stdout"
        }
      ]
    },
    {
      "cell_type": "markdown",
      "metadata": {
        "id": "7s4nmqcecw3a"
      },
      "source": [
        "### Fit the model (5 Marks)"
      ]
    },
    {
      "cell_type": "code",
      "metadata": {
        "id": "NN789zNnJ5PL"
      },
      "source": [
        "from sklearn.model_selection import train_test_split"
      ],
      "execution_count": null,
      "outputs": []
    },
    {
      "cell_type": "code",
      "metadata": {
        "colab": {
          "base_uri": "https://localhost:8080/"
        },
        "id": "Tsxp898L_kDr",
        "outputId": "708f531d-f18c-4d0f-a0fd-75c95090bee3"
      },
      "source": [
        "X.shape"
      ],
      "execution_count": null,
      "outputs": [
        {
          "output_type": "execute_result",
          "data": {
            "text/plain": [
              "(26709, 25)"
            ]
          },
          "metadata": {
            "tags": []
          },
          "execution_count": 46
        }
      ]
    },
    {
      "cell_type": "code",
      "metadata": {
        "id": "z57aZ3pqBG3B"
      },
      "source": [
        "#y = y.reshape(26709, 1)"
      ],
      "execution_count": null,
      "outputs": []
    },
    {
      "cell_type": "code",
      "metadata": {
        "id": "kMVtAraYBIlZ"
      },
      "source": [
        "X_train, X_test, y_train, y_test = train_test_split(X,y, test_size=0.25, random_state=1)"
      ],
      "execution_count": null,
      "outputs": []
    },
    {
      "cell_type": "code",
      "metadata": {
        "colab": {
          "base_uri": "https://localhost:8080/"
        },
        "id": "GLiBXbV4DaX5",
        "outputId": "d936b3dd-1b51-4d7e-ac11-4abf9e7ee0a0"
      },
      "source": [
        "model.fit(X_train, y_train, epochs = 6, batch_size=32, verbose = 2, validation_data=(X_test, y_test))"
      ],
      "execution_count": null,
      "outputs": [
        {
          "output_type": "stream",
          "text": [
            "Epoch 1/6\n",
            "626/626 - 199s - loss: 0.5480 - accuracy: 0.7160 - val_loss: 0.4331 - val_accuracy: 0.7940\n",
            "Epoch 2/6\n",
            "626/626 - 184s - loss: 0.4144 - accuracy: 0.8065 - val_loss: 0.3908 - val_accuracy: 0.8235\n",
            "Epoch 3/6\n",
            "626/626 - 183s - loss: 0.3406 - accuracy: 0.8485 - val_loss: 0.3777 - val_accuracy: 0.8332\n",
            "Epoch 4/6\n",
            "626/626 - 184s - loss: 0.2853 - accuracy: 0.8781 - val_loss: 0.3752 - val_accuracy: 0.8363\n",
            "Epoch 5/6\n",
            "626/626 - 186s - loss: 0.2413 - accuracy: 0.9004 - val_loss: 0.3932 - val_accuracy: 0.8381\n",
            "Epoch 6/6\n",
            "626/626 - 190s - loss: 0.2061 - accuracy: 0.9158 - val_loss: 0.4213 - val_accuracy: 0.8374\n"
          ],
          "name": "stdout"
        },
        {
          "output_type": "execute_result",
          "data": {
            "text/plain": [
              "<tensorflow.python.keras.callbacks.History at 0x7f4ac95f3c88>"
            ]
          },
          "metadata": {
            "tags": []
          },
          "execution_count": 49
        }
      ]
    },
    {
      "cell_type": "code",
      "metadata": {
        "colab": {
          "base_uri": "https://localhost:8080/"
        },
        "id": "3blltKQO-sXT",
        "outputId": "34f7c055-12cf-4a15-d923-d624aeb24ea9"
      },
      "source": [
        "model.evaluate(X_test, y_test, verbose = 1)"
      ],
      "execution_count": null,
      "outputs": [
        {
          "output_type": "stream",
          "text": [
            "209/209 [==============================] - 6s 27ms/step - loss: 0.4213 - accuracy: 0.8374\n"
          ],
          "name": "stdout"
        },
        {
          "output_type": "execute_result",
          "data": {
            "text/plain": [
              "[0.4212704002857208, 0.8373764753341675]"
            ]
          },
          "metadata": {
            "tags": []
          },
          "execution_count": 50
        }
      ]
    },
    {
      "cell_type": "markdown",
      "metadata": {
        "id": "FTW1jpyWSL0I"
      },
      "source": [
        "The test accuracy is between 82% and 84% which is good"
      ]
    },
    {
      "cell_type": "code",
      "metadata": {
        "colab": {
          "base_uri": "https://localhost:8080/"
        },
        "id": "pt5pvYHJENw4",
        "outputId": "6f71d2bb-54e2-457f-b8b2-a1a6d7fef8a2"
      },
      "source": [
        "p = model.predict_classes(np.array(X_test), verbose=1)"
      ],
      "execution_count": null,
      "outputs": [
        {
          "output_type": "stream",
          "text": [
            "WARNING:tensorflow:From <ipython-input-40-9503efdc9394>:1: Sequential.predict_classes (from tensorflow.python.keras.engine.sequential) is deprecated and will be removed after 2021-01-01.\n",
            "Instructions for updating:\n",
            "Please use instead:* `np.argmax(model.predict(x), axis=-1)`,   if your model does multi-class classification   (e.g. if it uses a `softmax` last-layer activation).* `(model.predict(x) > 0.5).astype(\"int32\")`,   if your model does binary classification   (e.g. if it uses a `sigmoid` last-layer activation).\n",
            "209/209 [==============================] - 6s 29ms/step\n"
          ],
          "name": "stdout"
        }
      ]
    },
    {
      "cell_type": "code",
      "metadata": {
        "colab": {
          "base_uri": "https://localhost:8080/"
        },
        "id": "-kmPMcaXHJ0l",
        "outputId": "bc7a267d-d408-453b-c248-69559653db5d"
      },
      "source": [
        "p[8]"
      ],
      "execution_count": null,
      "outputs": [
        {
          "output_type": "execute_result",
          "data": {
            "text/plain": [
              "array([1], dtype=int32)"
            ]
          },
          "metadata": {
            "tags": []
          },
          "execution_count": 48
        }
      ]
    },
    {
      "cell_type": "code",
      "metadata": {
        "colab": {
          "base_uri": "https://localhost:8080/"
        },
        "id": "-bSfKljBRfN5",
        "outputId": "17257e00-a3fb-4683-d57c-2320ed923efa"
      },
      "source": [
        "y_test[8]"
      ],
      "execution_count": null,
      "outputs": [
        {
          "output_type": "execute_result",
          "data": {
            "text/plain": [
              "1"
            ]
          },
          "metadata": {
            "tags": []
          },
          "execution_count": 47
        }
      ]
    },
    {
      "cell_type": "code",
      "metadata": {
        "colab": {
          "base_uri": "https://localhost:8080/"
        },
        "id": "Sw2zM0MXHjec",
        "outputId": "05d124c7-7507-4b78-ecd6-708434be6c6f"
      },
      "source": [
        "y_test[7]"
      ],
      "execution_count": null,
      "outputs": [
        {
          "output_type": "execute_result",
          "data": {
            "text/plain": [
              "1"
            ]
          },
          "metadata": {
            "tags": []
          },
          "execution_count": 49
        }
      ]
    },
    {
      "cell_type": "code",
      "metadata": {
        "colab": {
          "base_uri": "https://localhost:8080/"
        },
        "id": "meqnnm6WYsos",
        "outputId": "ea896ea4-3246-498f-f4c6-f26e72745c94"
      },
      "source": [
        "p[7]"
      ],
      "execution_count": null,
      "outputs": [
        {
          "output_type": "execute_result",
          "data": {
            "text/plain": [
              "array([0], dtype=int32)"
            ]
          },
          "metadata": {
            "tags": []
          },
          "execution_count": 50
        }
      ]
    },
    {
      "cell_type": "markdown",
      "metadata": {
        "id": "anvDOjZtRx76"
      },
      "source": [
        "We can see that for X_test[8] the prediction is correct i.e statement is a sarcasm but for X_test[7] record prediction is coming wrong"
      ]
    },
    {
      "cell_type": "code",
      "metadata": {
        "id": "IXIM9AeCtNAn"
      },
      "source": [
        "from sklearn.metrics import *"
      ],
      "execution_count": null,
      "outputs": []
    },
    {
      "cell_type": "code",
      "metadata": {
        "colab": {
          "base_uri": "https://localhost:8080/"
        },
        "id": "aPNA_A2ItFb7",
        "outputId": "71699e0d-8ead-461d-f9f2-f6bbe7815dad"
      },
      "source": [
        "print(classification_report(y_test,model.predict_classes(np.array(X_test))))"
      ],
      "execution_count": null,
      "outputs": [
        {
          "output_type": "stream",
          "text": [
            "              precision    recall  f1-score   support\n",
            "\n",
            "           0       0.83      0.89      0.86      3755\n",
            "           1       0.84      0.77      0.80      2923\n",
            "\n",
            "    accuracy                           0.84      6678\n",
            "   macro avg       0.84      0.83      0.83      6678\n",
            "weighted avg       0.84      0.84      0.83      6678\n",
            "\n"
          ],
          "name": "stdout"
        }
      ]
    },
    {
      "cell_type": "markdown",
      "metadata": {
        "id": "SvkX0wp8TUlV"
      },
      "source": [
        "All the parameters are either 80% or nearby 80% which symbolizes a good model"
      ]
    },
    {
      "cell_type": "code",
      "metadata": {
        "id": "rb0jjHP2ufyE"
      },
      "source": [
        "import matplotlib.pyplot as plt\n",
        "import seaborn as sns\n"
      ],
      "execution_count": null,
      "outputs": []
    },
    {
      "cell_type": "code",
      "metadata": {
        "colab": {
          "base_uri": "https://localhost:8080/",
          "height": 554
        },
        "id": "_OxaHq86uO6n",
        "outputId": "a8b3f90c-cab7-4aa7-b12b-dbf83ca8d7da"
      },
      "source": [
        "c = confusion_matrix(y_test, model.predict_classes(np.array(X_test)), labels = [1,0])\n",
        "conf_df = pd.DataFrame(c, index = [i for i in [\"1\",\"0\"]], columns= ['predict 1', 'predict 0'])\n",
        "plt.figure(figsize = (10,9))\n",
        "sns.heatmap(conf_df, annot = True, fmt = 'g', cmap = 'rainbow')\n"
      ],
      "execution_count": null,
      "outputs": [
        {
          "output_type": "execute_result",
          "data": {
            "text/plain": [
              "<matplotlib.axes._subplots.AxesSubplot at 0x7f316dc9c358>"
            ]
          },
          "metadata": {
            "tags": []
          },
          "execution_count": 55
        },
        {
          "output_type": "display_data",
          "data": {
            "image/png": "[encoded data removed]",
            "text/plain": [
              "<Figure size 720x648 with 2 Axes>"
            ]
          },
          "metadata": {
            "tags": [],
            "needs_background": "light"
          }
        }
      ]
    },
    {
      "cell_type": "markdown",
      "metadata": {
        "id": "WK0COaFCSmE-"
      },
      "source": [
        "In confusion matrix we see that True positive and true negative are highest in number"
      ]
    }
  ]
}